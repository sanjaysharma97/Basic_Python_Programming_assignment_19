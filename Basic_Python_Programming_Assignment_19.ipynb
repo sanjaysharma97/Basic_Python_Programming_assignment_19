{
 "cells": [
  {
   "cell_type": "markdown",
   "id": "577c1e51",
   "metadata": {},
   "source": [
    "# Question1 Create a function that takes a string and returns a string in which each character is repeated once.\n",
    "Examples\n",
    "double_char(\"String\") ➞ \"SSttrriinngg\"\n",
    "double_char(\"Hello World!\") ➞ \"HHeelllloo WWoorrlldd!!\"\n",
    "double_char(\"1234!_ \") ➞ \"11223344!!__ \"\n",
    "\n",
    "ANSWER-"
   ]
  },
  {
   "cell_type": "code",
   "execution_count": 12,
   "id": "46638c07",
   "metadata": {},
   "outputs": [
    {
     "name": "stdout",
     "output_type": "stream",
     "text": [
      "enter a string : Hello World!\n"
     ]
    },
    {
     "data": {
      "text/plain": [
       "'HHeelllloo  WWoorrlldd!!'"
      ]
     },
     "execution_count": 12,
     "metadata": {},
     "output_type": "execute_result"
    }
   ],
   "source": [
    "def double_char(in_string):\n",
    "    out_string=\"\"\n",
    "    for i in in_string:\n",
    "        out_string+=i*2\n",
    "    return out_string\n",
    "n=input(\"enter a string : \")\n",
    "double_char(n)"
   ]
  },
  {
   "cell_type": "markdown",
   "id": "68f8af3c",
   "metadata": {},
   "source": [
    "# Question2 Create a function that reverses a boolean value and returns the string \"boolean expected\" if another variable type is given.\n",
    "Examples\n",
    "reverse(True) ➞ False\n",
    "reverse(False) ➞ True\n",
    "reverse(0) ➞ \"boolean expected\"\n",
    "reverse(None) ➞ \"boolean expected\"\n",
    "\n",
    "ANSWER-"
   ]
  },
  {
   "cell_type": "code",
   "execution_count": 13,
   "id": "c66ac706",
   "metadata": {},
   "outputs": [
    {
     "name": "stdout",
     "output_type": "stream",
     "text": [
      "enter Boolean valueTrue\n"
     ]
    },
    {
     "data": {
      "text/plain": [
       "'boolean expected'"
      ]
     },
     "execution_count": 13,
     "metadata": {},
     "output_type": "execute_result"
    }
   ],
   "source": [
    "def reverse(n):\n",
    "    if type(n)==bool:\n",
    "        return not n\n",
    "    else:\n",
    "        return \"boolean expected\"\n",
    "    \n",
    "in_string=input(\"enter Boolean value\")\n",
    "reverse(in_string)"
   ]
  },
  {
   "cell_type": "markdown",
   "id": "8c6fd8ca",
   "metadata": {},
   "source": [
    "# Question3 Create a function that returns the thickness (in meters) of a piece of paper after folding it n number of times. The paper starts off with a thickness of 0.5mm.\n",
    "Examples\n",
    "num_layers(1) ➞ \"0.001m\"\n",
    "# Paper folded once is 1mm (equal to 0.001m)\n",
    "num_layers(4) ➞ \"0.008m\"\n",
    "# Paper folded 4 times is 8mm (equal to 0.008m)\n",
    "num_layers(21) ➞ \"1048.576m\"\n",
    "# Paper folded 21 times is 1048576mm (equal to 1048.576m)\n",
    "\n",
    "ANSWER-"
   ]
  },
  {
   "cell_type": "code",
   "execution_count": 17,
   "id": "f5bad581",
   "metadata": {},
   "outputs": [
    {
     "name": "stdout",
     "output_type": "stream",
     "text": [
      "enter a number 1\n",
      "Output->0.001m\n",
      "enter a number 4\n",
      "Output->0.008m\n",
      "enter a number 21\n",
      "Output->1048.576m\n",
      "enter a number 40\n",
      "Output->549755813.888m\n",
      "enter a number 50\n",
      "Output->562949953421.312m\n"
     ]
    }
   ],
   "source": [
    "def num_layers(num):\n",
    "    out_num=0.5\n",
    "    for i in range(num):\n",
    "        out_num*=2\n",
    "    print(f'Output->{out_num/1000}m')\n",
    "for j in range(5):\n",
    "    n=int(input(\"enter a number \"))\n",
    "    num_layers(n)"
   ]
  },
  {
   "cell_type": "markdown",
   "id": "f3074900",
   "metadata": {},
   "source": [
    "# Question4 Create a function that takes a single string as argument and returns an ordered list containing the indices of all capital letters in the string.\n",
    "Examples\n",
    "index_of_caps('eDaBiT\") ➞ [1, 3, 5]\n",
    "index_of_caps(\"eQuINoX\") ➞ [1, 3, 4, 6]\n",
    "index_of_caps(\"determine\") ➞ []\n",
    "index_of_caps(\"STRIKE\") ➞ [0, 1, 2, 3, 4, 5]\n",
    "index_of_caps(\"sUn\") ➞ [1]\n",
    "\n",
    "ANSWER-"
   ]
  },
  {
   "cell_type": "code",
   "execution_count": 21,
   "id": "dde2354a",
   "metadata": {},
   "outputs": [
    {
     "name": "stdout",
     "output_type": "stream",
     "text": [
      "enter a string: eDaBiT\n",
      "[1, 3, 5]\n",
      "enter a string: eQuINoX\n",
      "[1, 3, 4, 6]\n",
      "enter a string: determine\n",
      "[]\n",
      "enter a string: sUn\n",
      "[1]\n"
     ]
    }
   ],
   "source": [
    "def index_of_caps(in_string):\n",
    "    out_string=[]\n",
    "    for i in in_string:\n",
    "        if i.isupper():\n",
    "            out_string.append(in_string.index(i))\n",
    "    print(out_string)\n",
    "for j in range(4):\n",
    "    n=input(\"enter a string: \")\n",
    "    index_of_caps(n)\n",
    "            "
   ]
  },
  {
   "cell_type": "markdown",
   "id": "4a963596",
   "metadata": {},
   "source": [
    "# Question5 Using list comprehensions, create a function that finds all even numbers from 1 to the given number.\n",
    "Examples\n",
    "find_even_nums(8) ➞ [2, 4, 6, 8]\n",
    "find_even_nums(4) ➞ [2, 4]\n",
    "find_even_nums(2) ➞ [2]\n",
    "\n",
    "ANSWER-"
   ]
  },
  {
   "cell_type": "code",
   "execution_count": 1,
   "id": "71e12ed9",
   "metadata": {},
   "outputs": [
    {
     "name": "stdout",
     "output_type": "stream",
     "text": [
      "enter a number: 8\n",
      "[2, 4, 6, 8]\n",
      "enter a number: 4\n",
      "[2, 4]\n",
      "enter a number: 2\n",
      "[2]\n",
      "enter a number: 20\n",
      "[2, 4, 6, 8, 10, 12, 14, 16, 18, 20]\n"
     ]
    }
   ],
   "source": [
    "def find_even_nums(n):\n",
    "    out_num=[]\n",
    "    for i in range(1,n+1):\n",
    "        if i%2==0:\n",
    "            out_num.append(i)\n",
    "    print(out_num)\n",
    "    \n",
    "for j in range(4):\n",
    "    num=int(input(\"enter a number: \"))\n",
    "    find_even_nums(num)"
   ]
  },
  {
   "cell_type": "code",
   "execution_count": null,
   "id": "73ca82b3",
   "metadata": {},
   "outputs": [],
   "source": []
  }
 ],
 "metadata": {
  "kernelspec": {
   "display_name": "Python 3 (ipykernel)",
   "language": "python",
   "name": "python3"
  },
  "language_info": {
   "codemirror_mode": {
    "name": "ipython",
    "version": 3
   },
   "file_extension": ".py",
   "mimetype": "text/x-python",
   "name": "python",
   "nbconvert_exporter": "python",
   "pygments_lexer": "ipython3",
   "version": "3.9.12"
  }
 },
 "nbformat": 4,
 "nbformat_minor": 5
}
